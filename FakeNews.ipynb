{
  "nbformat": 4,
  "nbformat_minor": 0,
  "metadata": {
    "colab": {
      "name": "FakeNews",
      "provenance": [],
      "collapsed_sections": [],
      "authorship_tag": "ABX9TyPa0CUmsu3FpedjTuI+TNPU"
    },
    "kernelspec": {
      "name": "python3",
      "display_name": "Python 3"
    },
    "language_info": {
      "name": "python"
    }
  },
  "cells": [
    {
      "cell_type": "markdown",
      "source": [
        "# Predicting Fake News using NLP"
      ],
      "metadata": {
        "id": "GgyZ_QR2B9rH"
      }
    },
    {
      "cell_type": "markdown",
      "source": [
        "## Importing Libraries"
      ],
      "metadata": {
        "id": "tmmPcfEi6x3N"
      }
    },
    {
      "cell_type": "code",
      "execution_count": 6,
      "metadata": {
        "id": "efUUipLOB7rf"
      },
      "outputs": [],
      "source": [
        "import numpy as np\n",
        "import matplotlib.pyplot as plt\n",
        "import pandas as pd"
      ]
    },
    {
      "cell_type": "markdown",
      "source": [
        "## Reading Datasets"
      ],
      "metadata": {
        "id": "BMJ7X6Wf65ko"
      }
    },
    {
      "cell_type": "code",
      "source": [
        "# dataset 1: news large dataset\n",
        "true =pd.read_csv('True.csv', delimiter=',')\n",
        "true['label'] = 1\n",
        "\n",
        "\n",
        "false =pd.read_csv('Fake.csv', delimiter=',')\n",
        "false['label'] = 0\n",
        "\n",
        "\n"
      ],
      "metadata": {
        "id": "JE5kR1UPC5xw"
      },
      "execution_count": 7,
      "outputs": []
    },
    {
      "cell_type": "code",
      "source": [
        "data = pd.concat([true, false], axis=0)"
      ],
      "metadata": {
        "id": "tijhKlH6EQ3K"
      },
      "execution_count": 8,
      "outputs": []
    },
    {
      "cell_type": "code",
      "source": [
        "data=data.drop(['text','subject','date'], axis=1)"
      ],
      "metadata": {
        "id": "zy_4rqS-EZuO"
      },
      "execution_count": 9,
      "outputs": []
    },
    {
      "cell_type": "markdown",
      "source": [
        "## Text Preprocessing"
      ],
      "metadata": {
        "id": "x5ob-pse7Qem"
      }
    },
    {
      "cell_type": "code",
      "source": [
        "import re\n",
        "from nltk.stem.porter import PorterStemmer\n",
        "X = []\n",
        "for title in data['title']:\n",
        "  sentence = re.sub('[^a-zA-Z]', ' ', title)\n",
        "  sentence = sentence.lower()\n",
        "  sentence = sentence.split()\n",
        "  sentence = ' '.join(sentence)\n",
        "  X.append(sentence)\n",
        "\n",
        "\n",
        "\n",
        "y = data['label']"
      ],
      "metadata": {
        "id": "eWhPBmLuD-gn"
      },
      "execution_count": 10,
      "outputs": []
    },
    {
      "cell_type": "markdown",
      "source": [
        "## Test/Train Split"
      ],
      "metadata": {
        "id": "9GnLC7aL7WMQ"
      }
    },
    {
      "cell_type": "code",
      "source": [
        "from sklearn.model_selection import train_test_split\n",
        "X_train, X_test, y_train, y_test = train_test_split(X, y, test_size = 0.25, random_state = 0)"
      ],
      "metadata": {
        "id": "mpJbgDUFIoot"
      },
      "execution_count": 11,
      "outputs": []
    },
    {
      "cell_type": "markdown",
      "source": [
        "## Text Representations"
      ],
      "metadata": {
        "id": "V-kYmQJM7cqV"
      }
    },
    {
      "cell_type": "code",
      "source": [
        "from sklearn.feature_extraction.text import CountVectorizer,TfidfTransformer\n",
        "cv = CountVectorizer()\n",
        "tfidf = TfidfTransformer(norm=None)\n",
        "X = cv.fit_transform(X).toarray()\n",
        "X = tfidf.fit_transform(X).toarray()\n",
        "\n"
      ],
      "metadata": {
        "id": "dyE2DC2mEPqm"
      },
      "execution_count": null,
      "outputs": []
    },
    {
      "cell_type": "code",
      "source": [
        "print(data.head())"
      ],
      "metadata": {
        "id": "cJM8G4QJDeRr"
      },
      "execution_count": null,
      "outputs": []
    },
    {
      "cell_type": "markdown",
      "source": [
        "## Logistic Regression"
      ],
      "metadata": {
        "id": "iJDH0kRa7nHz"
      }
    },
    {
      "cell_type": "code",
      "source": [
        "from sklearn.linear_model import LogisticRegression\n",
        "classifier = LogisticRegression(fit_intercept=True, penalty=\"l2\", C=1, max_iter=200 ,solver='saga')\n",
        "classifier.fit(X_train, y_train)"
      ],
      "metadata": {
        "id": "FkO_C56uIywK"
      },
      "execution_count": null,
      "outputs": []
    },
    {
      "cell_type": "markdown",
      "source": [
        "## Predict Probabilities"
      ],
      "metadata": {
        "id": "GmpCIWAO7vD3"
      }
    },
    {
      "cell_type": "code",
      "source": [
        "y_pred = classifier.predict_proba(X_test)\n"
      ],
      "metadata": {
        "id": "AX1Z9PadI2Ul"
      },
      "execution_count": null,
      "outputs": []
    },
    {
      "cell_type": "markdown",
      "source": [
        "## Performance Metrics"
      ],
      "metadata": {
        "id": "VWuzK9ZP77Yf"
      }
    },
    {
      "cell_type": "code",
      "source": [
        "from sklearn.metrics import confusion_matrix, accuracy_score, f1_score, precision_score, recall_score\n",
        "cm = confusion_matrix(y_test,classifier.predict(X_test))\n",
        "print(cm)\n",
        "accuracy_score(y_test, y_pred)\n"
      ],
      "metadata": {
        "id": "8219ncywI7Xn"
      },
      "execution_count": null,
      "outputs": []
    },
    {
      "cell_type": "markdown",
      "source": [
        "## Pipeline "
      ],
      "metadata": {
        "id": "1gVecJFFgwAZ"
      }
    },
    {
      "cell_type": "code",
      "source": [
        "!pip install skl2onnx\n"
      ],
      "metadata": {
        "id": "K-CxKh44hNE3"
      },
      "execution_count": null,
      "outputs": []
    },
    {
      "cell_type": "code",
      "source": [
        "!pip install onnxruntime"
      ],
      "metadata": {
        "id": "W8UNOY8bhvLm"
      },
      "execution_count": null,
      "outputs": []
    },
    {
      "cell_type": "code",
      "source": [
        "from sklearn.pipeline import Pipeline\n",
        "import seaborn as sns\n",
        "\n",
        "from skl2onnx import convert_sklearn\n",
        "from skl2onnx.common.data_types import Int64TensorType\n",
        "import onnxruntime as rt\n"
      ],
      "metadata": {
        "id": "BJZnGmJNg0JG"
      },
      "execution_count": null,
      "outputs": []
    },
    {
      "cell_type": "code",
      "source": [
        "pipeline = Pipeline([('vectorizer', CountVectorizer()),('tfidf' ,TfidfTransformer(norm=None)), ('classifier',LogisticRegression(fit_intercept=True, penalty=\"l2\", C=1, max_iter=200 ,solver='saga'))])\n"
      ],
      "metadata": {
        "id": "Y6NTLw4vg9Ez"
      },
      "execution_count": null,
      "outputs": []
    },
    {
      "cell_type": "code",
      "source": [
        "pipeline.fit(X_train, y_train)"
      ],
      "metadata": {
        "id": "sfj20Uu8hyRM"
      },
      "execution_count": null,
      "outputs": []
    },
    {
      "cell_type": "code",
      "source": [
        "pipeline.score(X_test, y_test)\n"
      ],
      "metadata": {
        "id": "QKUqeJLzh1m5"
      },
      "execution_count": null,
      "outputs": []
    },
    {
      "cell_type": "code",
      "source": [
        "import joblib\n",
        "\n",
        "joblib.dump(pipeline, './model/pipeline.pkl')\n"
      ],
      "metadata": {
        "id": "_odncD3th5R5"
      },
      "execution_count": null,
      "outputs": []
    },
    {
      "cell_type": "markdown",
      "source": [
        "## Pipeline in ONNX Format"
      ],
      "metadata": {
        "id": "u-GUmfxB9Gcn"
      }
    },
    {
      "cell_type": "code",
      "source": [
        "from skl2onnx.common.data_types import StringTensorType\n"
      ],
      "metadata": {
        "id": "8OZiWQFNihlD"
      },
      "execution_count": null,
      "outputs": []
    },
    {
      "cell_type": "code",
      "source": [
        "initial_type = [('StringTensorType', StringTensorType([None]))]\n",
        "onx = convert_sklearn(pipeline, initial_types=initial_type)\n",
        "\n",
        "with open(\"./model/pipeline.onnx\", \"wb\") as f:\n",
        "    f.write(onx.SerializeToString())"
      ],
      "metadata": {
        "id": "05pWgj8qim8D"
      },
      "execution_count": null,
      "outputs": []
    },
    {
      "cell_type": "code",
      "source": [
        "sess = rt.InferenceSession(\"./model/pipeline.onnx\")\n",
        "input_name = sess.get_inputs()[0].name\n",
        "label_name = sess.get_outputs()[0].name\n",
        "\n",
        "pred_onx = sess.run([label_name], {input_name: X_test})[0]"
      ],
      "metadata": {
        "id": "0iuwrv7Jit5v"
      },
      "execution_count": null,
      "outputs": []
    },
    {
      "cell_type": "code",
      "source": [
        "pred_onx\n"
      ],
      "metadata": {
        "id": "Y31SLhfDi1v_"
      },
      "execution_count": null,
      "outputs": []
    },
    {
      "cell_type": "markdown",
      "source": [
        "## Model in ONNX Format"
      ],
      "metadata": {
        "id": "BdthgRC39Pni"
      }
    },
    {
      "cell_type": "code",
      "source": [
        "initial_type = [('int64_input', Int64TensorType([None,19576]))]\n",
        "onx = convert_sklearn(classifier, initial_types=initial_type)\n",
        "with open(\"./model/classifier.onnx\", \"wb\") as f:\n",
        "    f.write(onx.SerializeToString())"
      ],
      "metadata": {
        "id": "Oq8gpYJui6LM"
      },
      "execution_count": null,
      "outputs": []
    },
    {
      "cell_type": "code",
      "source": [
        "sess = rt.InferenceSession(\"./model/classifier.onnx\")\n",
        "input_name = sess.get_inputs()[0].name\n",
        "label_name = sess.get_outputs()[0].name\n",
        "\n",
        "pred_onx = sess.run([label_name], {input_name: x_test_vector.toarray().astype(np.int64)})[0]"
      ],
      "metadata": {
        "id": "xXwQiMQdi8_u"
      },
      "execution_count": null,
      "outputs": []
    },
    {
      "cell_type": "code",
      "source": [
        "!zip -r model.zip  ./model"
      ],
      "metadata": {
        "id": "7lf4w7InjGi2"
      },
      "execution_count": null,
      "outputs": []
    }
  ]
}